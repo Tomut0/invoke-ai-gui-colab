{
  "cells": [
    {
      "cell_type": "markdown",
      "metadata": {
        "id": "V78TAa3W-9WN"
      },
      "source": [
        "# Для того, чтобы установить Invoke Ai, запустите код в каждой из форм.\n",
        "Для запуска сервера потребуется аккаунт на [ngrok](https://dashboard.ngrok.com/login)\n",
        "\n",
        "# To use Invoke Ai, launch the code in every form below.\n",
        "You will need an account on [ngrok](https://dashboard.ngrok.com/login)\n",
        "\n",
        "**[Repo](https://github.com/peaashmeter/invoke-ai-gui-colab)**"
      ]
    },
    {
      "cell_type": "code",
      "execution_count": null,
      "metadata": {
        "colab": {
          "base_uri": "https://localhost:8080/"
        },
        "id": "hqe0rPfs6wJ3",
        "outputId": "bc4ab45b-422c-4707-a869-20114b1806bc"
      },
      "outputs": [],
      "source": [
        "from google.colab import drive\n",
        "drive.mount('/content/drive')"
      ]
    },
    {
      "cell_type": "code",
      "execution_count": null,
      "metadata": {
        "cellView": "form",
        "colab": {
          "base_uri": "https://localhost:8080/"
        },
        "id": "G5LfQaWe0bHK",
        "outputId": "bb9a8df3-6b27-4791-c3db-96861ddf3459"
      },
      "outputs": [],
      "source": [
        "#@title Во время этого этапа Colab крашится, это нормально\n",
        "!pip install -q condacolab\n",
        "import condacolab\n",
        "condacolab.install()"
      ]
    },
    {
      "cell_type": "code",
      "execution_count": null,
      "metadata": {
        "colab": {
          "base_uri": "https://localhost:8080/"
        },
        "id": "U-4vMQGrGXx8",
        "outputId": "cd98343f-7935-45b2-f0b9-c7733ba08acc"
      },
      "outputs": [],
      "source": [
        "#@title Подготовка репозитория Invoke Ai { display-mode: \"form\" }\n",
        "%cd /home\n",
        "\n",
        "!git clone -n https://github.com/invoke-ai/InvokeAI.git\n",
        "%cd InvokeAI\n",
        "!git checkout 69b15024a93ecfbbb555c956f745e9748c12f044\n",
        "\n",
        "!ln -sf environments-and-requirements/environment-lin-cuda.yml environment.yml\n",
        "!ls -la\n",
        "\n",
        "%cd ..\n",
        "\n",
        "!git clone https://github.com/peaashmeter/invoke-ai-gui-colab.git\n",
        "\n",
        "\n",
        "%cd invoke-ai-gui-colab\n",
        "\n",
        "%cp cross_attention_control.py ../InvokeAI/ldm/models/diffusion/cross_attention_control.py\n",
        "%cp globals.py ../InvokeAI/ldm/invoke/globals.py"
      ]
    },
    {
      "cell_type": "code",
      "execution_count": null,
      "metadata": {
        "colab": {
          "base_uri": "https://localhost:8080/"
        },
        "id": "0z1VLnSGQyrx",
        "outputId": "489e0f52-42bd-4eea-8a1f-abeff5451672"
      },
      "outputs": [],
      "source": [
        "#@title Установка зависимостей, в норме занимает ~10 минут { display-mode: \"form\" }\n",
        "%cd ../InvokeAI\n",
        "!pip install pyngrok --quiet\n",
        "!conda env update\n",
        "!source activate invokeai ; python scripts/configure_invokeai.py --skip-sd-weights --yes\n",
        "\n",
        "%cp ../invoke-ai-gui-colab/models.yaml /root/invokeai/configs \n",
        "\n"
      ]
    },
    {
      "cell_type": "code",
      "execution_count": null,
      "metadata": {
        "colab": {
          "base_uri": "https://localhost:8080/"
        },
        "id": "OzFl5cmndBrd",
        "outputId": "5a71c431-cfde-45e3-c53e-743005f4874e"
      },
      "outputs": [],
      "source": [
        "#@title Установка модели Anything-V3.0 (требуется 5.1 Гб места на гугл-диске) { display-mode: \"form\" }\n",
        "import os\n",
        "\n",
        "\n",
        "os.system('cd /')\n",
        "os.system('mkdir -p /root/invokeai/models/ldm/stable-diffusion-v1')\n",
        "\n",
        "if os.path.exists('/content/drive/MyDrive/models/Anything-V3.0-pruned.ckpt'):\n",
        "    None\n",
        "else:\n",
        "    print('Производится скачивание модели Anything-V3.0')\n",
        "    os.system('mkdir -p /content/drive/MyDrive/models/')\n",
        "    os.system('wget -O /content/drive/MyDrive/models/Anything-V3.0-pruned.ckpt https://huggingface.co/Linaqruf/anything-v3.0/resolve/main/Anything-V3.0-pruned.ckpt')\n",
        "\n",
        "if os.path.exists('/content/drive/MyDrive/models/Anything-V3.0.vae.pt'):\n",
        "  None\n",
        "else:\n",
        "  print('Производится скачивание Anything-VAE')\n",
        "  os.system('wget -O /content/drive/MyDrive/models/Anything-V3.0.vae.pt https://huggingface.co/Linaqruf/anything-v3.0/resolve/main/Anything-V3.0.vae.pt')\n",
        "\n",
        "if os.path.exists('/content/drive/MyDrive/models/vae-ft-mse-840000-ema-pruned.ckpt'):\n",
        "  None\n",
        "else:\n",
        "  print('Производится скачивание SD-VAE')\n",
        "  os.system('wget -O /content/drive/MyDrive/models/vae-ft-mse-840000-ema-pruned.ckpt https://huggingface.co/stabilityai/sd-vae-ft-mse-original/resolve/main/vae-ft-mse-840000-ema-pruned.ckpt')\n",
        "\n",
        "if not os.path.exists('/content/drive/MyDrive/models/Anything-V3.0-pruned.ckpt') or not os.path.exists('/content/drive/MyDrive/models/vae-ft-mse-840000-ema-pruned.ckpt') or not os.path.exists('/content/drive/MyDrive/models/Anything-V3.0.vae.pt'):\n",
        "    print('Произошла ошибка, попробуйте еще раз\\nUnexpected error')\n",
        "else:\n",
        "    print('Make sure you accept the terms at https://huggingface.co/Linaqruf/anything-v3.0 and https://huggingface.co/stabilityai/sd-vae-ft-mse-original')\n",
        "\n",
        "\n",
        "%mkdir -p /root/invokeai/models/ldm/stable-diffusion-v1/\n",
        "!ln -s  /content/drive/MyDrive/models/Anything-V3.0-pruned.ckpt /root/invokeai/models/ldm/stable-diffusion-v1/Anything-V3.0-pruned.ckpt\n",
        "!ls -l /root/invokeai/models/ldm/stable-diffusion-v1/Anything-V3.0-pruned.ckpt\n",
        "\n",
        "!ln -s  /content/drive/MyDrive/models/vae-ft-mse-840000-ema-pruned.ckpt /root/invokeai/models/ldm/stable-diffusion-v1/vae-ft-mse-840000-ema-pruned.ckpt\n",
        "!ls -l /root/invokeai/models/ldm/stable-diffusion-v1/vae-ft-mse-840000-ema-pruned.ckpt\n",
        "\n",
        "!ln -s  /content/drive/MyDrive/models/Anything-V3.0.vae.pt /root/invokeai/models/ldm/stable-diffusion-v1/Anything-V3.0.vae.pt\n",
        "!ls -l /root/invokeai/models/ldm/stable-diffusion-v1/Anything-V3.0.vae.pt"
      ]
    },
    {
      "cell_type": "code",
      "execution_count": null,
      "metadata": {
        "colab": {
          "base_uri": "https://localhost:8080/"
        },
        "id": "C826ebQkb_OQ",
        "outputId": "1ff0bf60-7f7c-4178-edd3-558d4907ed2d"
      },
      "outputs": [],
      "source": [
        "#@title Запуск сервера { display-mode: \"both\" }\n",
        "#@markdown Вставьте токен с [ngrok](https://dashboard.ngrok.com/get-started/your-authtoken) в поле перед выполнением кода.\n",
        "\n",
        "ngrok_token = \"\" #@param {type:\"string\"}\n",
        "nsfw_checker = 0 #@param {type:\"slider\", min:0, max:1, step:1}\n",
        "used_vae = \"Anything-V3.0.vae.pt\" #@param [\"Anything-V3.0.vae.pt\", \"vae-ft-mse-840000-ema-pruned\"]\n",
        "\n",
        "import os\n",
        "from pyngrok import ngrok\n",
        "\n",
        "ngrok.kill()\n",
        "ngrok.set_auth_token(ngrok_token)\n",
        "public_url = ngrok.connect(9090).public_url\n",
        "print(f'Invoke Ai public url: {public_url}')\n",
        "\n",
        "%cd /home/InvokeAI\n",
        "\n",
        "model_name = \"Anything_v3_vaefixed\"\n",
        "if used_vae == \"vae-ft-mse-840000-ema-pruned\":\n",
        "    model_name = \"Anything_v3_default\"\n",
        "\n",
        "\n",
        "if nsfw_checker:\n",
        "    !source activate invokeai ; python scripts/invoke.py --web --model $model_name\n",
        "else:\n",
        "    !source activate invokeai ; python scripts/invoke.py --web --no-nsfw_checker --model $model_name"
      ]
    },
    {
      "cell_type": "markdown",
      "metadata": {
        "id": "ckMayfYdkOmF"
      },
      "source": [
        "# После запуска сервера нужно перейти по первой ссылке из вывода (Invoke Ai public url)\n",
        "Если интерфейс не прогрузился, надо перезагрузить страницу\n",
        "---\n",
        "\n"
      ]
    }
  ],
  "metadata": {
    "accelerator": "GPU",
    "colab": {
      "provenance": []
    },
    "gpuClass": "standard",
    "kernelspec": {
      "display_name": "Python 3",
      "language": "python",
      "name": "python3"
    },
    "language_info": {
      "codemirror_mode": {
        "name": "ipython",
        "version": 3
      },
      "file_extension": ".py",
      "mimetype": "text/x-python",
      "name": "python",
      "nbconvert_exporter": "python",
      "pygments_lexer": "ipython3",
      "version": "3.9.0 (tags/v3.9.0:9cf6752, Oct  5 2020, 15:34:40) [MSC v.1927 64 bit (AMD64)]"
    },
    "orig_nbformat": 4,
    "vscode": {
      "interpreter": {
        "hash": "07f22fa44ccf32757507f6b49dc71cbc8d838934a5626a47cf7fbf3cda75c8a2"
      }
    }
  },
  "nbformat": 4,
  "nbformat_minor": 0
}
